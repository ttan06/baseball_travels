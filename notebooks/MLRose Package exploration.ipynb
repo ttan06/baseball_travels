{
 "cells": [
  {
   "cell_type": "code",
   "execution_count": 2,
   "id": "663ae038",
   "metadata": {},
   "outputs": [],
   "source": [
    "import six\n",
    "import sys\n",
    "sys.modules['sklearn.externals.six'] = six\n",
    "import mlrose"
   ]
  },
  {
   "cell_type": "code",
   "execution_count": 4,
   "id": "ef24ff9c",
   "metadata": {},
   "outputs": [
    {
     "name": "stdout",
     "output_type": "stream",
     "text": [
      "[7 6 5 4 3 2 1 0]\n",
      "17.34261754766733\n"
     ]
    }
   ],
   "source": [
    "# Create list of city coordinates\n",
    "coords_list = [(1, 1), (4, 2), (5, 2), (6, 4), (4, 4), (3, 6), (1, 5), (2, 3)]\n",
    "\n",
    "# Define optimization problem object\n",
    "problem_no_fit = mlrose.TSPOpt(length = 8, coords = coords_list, maximize = False)\n",
    "# Solve using genetic algorithm\n",
    "best_state, best_fitness = mlrose.genetic_alg(problem_no_fit, mutation_prob = 0.2, max_attempts = 100, \n",
    "                                              random_state = 2)\n",
    "print(best_state)\n",
    "#[7 6 5 4 3 2 1 0]\n",
    "print(best_fitness)"
   ]
  },
  {
   "cell_type": "code",
   "execution_count": 6,
   "id": "5e879734",
   "metadata": {},
   "outputs": [
    {
     "name": "stdout",
     "output_type": "stream",
     "text": [
      "[6 5 4 3 0 7 1 2]\n",
      "45.79835369549551\n"
     ]
    }
   ],
   "source": [
    "# Create list of city coordinates\n",
    "coords_list = [(1, 1,5,8), (4, 2,6,2), (5, 2,3,4), (6, 4,6,9), (4, 4,3,13), (3, 6,2,15), (1, 5,1,6), (2, 3,8,0)]\n",
    "\n",
    "# Define optimization problem object\n",
    "problem_no_fit = mlrose.TSPOpt(length = 8, coords = coords_list, maximize = False)\n",
    "# Solve using genetic algorithm\n",
    "best_state, best_fitness = mlrose.genetic_alg(problem_no_fit, mutation_prob = 0.2, max_attempts = 100, \n",
    "                                              random_state = 2)\n",
    "print(best_state)\n",
    "#[7 6 5 4 3 2 1 0]\n",
    "print(best_fitness)"
   ]
  }
 ],
 "metadata": {
  "kernelspec": {
   "display_name": "firstEnv",
   "language": "python",
   "name": "firstenv"
  },
  "language_info": {
   "codemirror_mode": {
    "name": "ipython",
    "version": 3
   },
   "file_extension": ".py",
   "mimetype": "text/x-python",
   "name": "python",
   "nbconvert_exporter": "python",
   "pygments_lexer": "ipython3",
   "version": "3.10.10"
  }
 },
 "nbformat": 4,
 "nbformat_minor": 5
}
